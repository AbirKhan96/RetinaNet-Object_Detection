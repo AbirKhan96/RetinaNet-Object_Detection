{
 "cells": [
  {
   "cell_type": "code",
   "execution_count": null,
   "metadata": {},
   "outputs": [],
   "source": [
    "# !pip install tqdm"
   ]
  },
  {
   "cell_type": "code",
   "execution_count": 1,
   "metadata": {},
   "outputs": [
    {
     "name": "stderr",
     "output_type": "stream",
     "text": [
      "  3%|▎         | 54/1775 [00:00<00:03, 536.87it/s]"
     ]
    },
    {
     "name": "stdout",
     "output_type": "stream",
     "text": [
      "working on /home/itis/Desktop/Work_Flow_JIO_DISH/jsoncropped/ dir ...\n"
     ]
    },
    {
     "name": "stderr",
     "output_type": "stream",
     "text": [
      "100%|██████████| 1775/1775 [00:02<00:00, 596.03it/s]\n"
     ]
    }
   ],
   "source": [
    "import os, json\n",
    "from tqdm import tqdm\n",
    "import itertools \n",
    "\n",
    "# #dir_names = ['train', 'test']\n",
    "# dir_names = ['all_jsons']\n",
    "dir_names = ['/home/itis/Desktop/Work_Flow_JIO_DISH/jsoncropped/']\n",
    "ext = 'json'\n",
    "\n",
    "def json_path_to_dic(json_path):\n",
    "    dic = None\n",
    "    with open(json_path, 'rb') as fp:\n",
    "        dic = json.load(fp)\n",
    "    return dic\n",
    "\n",
    "\n",
    "def get_thing_class_distribution(dic, thing_class_counts):\n",
    "    \n",
    "    for shape_dic in dic['shapes']:\n",
    "        if shape_dic['label'] not in thing_class_counts:\n",
    "            thing_class_counts[shape_dic['label']] = 0\n",
    "        thing_class_counts[shape_dic['label']] += 1\n",
    "\n",
    "    return thing_class_counts\n",
    "\n",
    "def compare_json_and_img_name(img_file_name, json_file_name, json_path):\n",
    "    json_name = json_file_name.split('.')[0]\n",
    "    img_name = img_file_name.split('.')[0]\n",
    "\n",
    "    if json_name != img_name:\n",
    "        print(f\"[CRITICAL WARNING] {json_path} has different image name {img_file_name}\")\n",
    "    \n",
    "\n",
    "\n",
    "thing_class_distribution = {}\n",
    "for dir_name in dir_names:\n",
    "\n",
    "    print(f'working on {dir_name} dir ...')\n",
    "    for json_file_name in tqdm([f for f in os.listdir(dir_name) if f.split('.')[-1].lower() == ext.lower()]):\n",
    "        try:\n",
    "            path = f'{dir_name}/{json_file_name}'\n",
    "            json_dic = json_path_to_dic(path)\n",
    "\n",
    "            thing_class_distribution = get_thing_class_distribution(\n",
    "                dic=json_dic, \n",
    "                thing_class_counts=thing_class_distribution)\n",
    "\n",
    "            compare_json_and_img_name(\n",
    "                img_file_name=json_dic['imagePath'], \n",
    "                json_file_name=json_file_name,\n",
    "                json_path=path\n",
    "                )\n",
    "        except Exception as E:\n",
    "            print (\"#\"*80)\n",
    "            print (json_file_name)\n",
    "            print (E)\n",
    "            print (\"#\"*80)\n",
    "            "
   ]
  },
  {
   "cell_type": "code",
   "execution_count": 2,
   "metadata": {},
   "outputs": [
    {
     "name": "stdout",
     "output_type": "stream",
     "text": [
      "solar_panel : 104\n",
      "bigdish : 371\n",
      "antenna_tower : 509\n",
      "water_tank : 1944\n",
      "smalldish : 7786\n"
     ]
    }
   ],
   "source": [
    "# sorted\n",
    "sorted_classes = sorted(thing_class_distribution, key=thing_class_distribution.get)\n",
    "for k in sorted_classes:\n",
    "    print(k, ':' ,thing_class_distribution[k])"
   ]
  },
  {
   "cell_type": "code",
   "execution_count": 7,
   "metadata": {},
   "outputs": [
    {
     "data": {
      "text/plain": [
       "5"
      ]
     },
     "execution_count": 7,
     "metadata": {},
     "output_type": "execute_result"
    }
   ],
   "source": [
    "len(sorted_classes)"
   ]
  },
  {
   "cell_type": "code",
   "execution_count": 8,
   "metadata": {},
   "outputs": [
    {
     "data": {
      "text/plain": [
       "['solar_panel', 'bigdish', 'antenna_tower', 'water_tank', 'smalldish']"
      ]
     },
     "execution_count": 8,
     "metadata": {},
     "output_type": "execute_result"
    }
   ],
   "source": [
    "sorted_classes"
   ]
  },
  {
   "cell_type": "code",
   "execution_count": null,
   "metadata": {},
   "outputs": [],
   "source": []
  },
  {
   "cell_type": "code",
   "execution_count": null,
   "metadata": {},
   "outputs": [],
   "source": []
  },
  {
   "cell_type": "code",
   "execution_count": null,
   "metadata": {},
   "outputs": [],
   "source": []
  },
  {
   "cell_type": "code",
   "execution_count": null,
   "metadata": {},
   "outputs": [],
   "source": []
  }
 ],
 "metadata": {
  "kernelspec": {
   "display_name": "Python 3",
   "language": "python",
   "name": "python3"
  },
  "language_info": {
   "codemirror_mode": {
    "name": "ipython",
    "version": 3
   },
   "file_extension": ".py",
   "mimetype": "text/x-python",
   "name": "python",
   "nbconvert_exporter": "python",
   "pygments_lexer": "ipython3",
   "version": "3.6.9"
  }
 },
 "nbformat": 4,
 "nbformat_minor": 2
}
